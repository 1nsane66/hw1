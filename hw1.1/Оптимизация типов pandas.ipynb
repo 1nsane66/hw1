{
 "cells": [
  {
   "cell_type": "code",
   "execution_count": null,
   "id": "ab51f8a4",
   "metadata": {},
   "outputs": [],
   "source": [
    "import pandas as pd\n"
   ]
  },
  {
   "cell_type": "code",
   "execution_count": 4,
   "id": "66cbd57f",
   "metadata": {},
   "outputs": [],
   "source": [
    "# Считываем датасет\n",
    "df = pd.read_csv('Housing.csv')"
   ]
  },
  {
   "cell_type": "code",
   "execution_count": 5,
   "id": "9a9d4bc6",
   "metadata": {},
   "outputs": [
    {
     "name": "stdout",
     "output_type": "stream",
     "text": [
      "Потребление памяти до оптимизации: 221.92 KB\n"
     ]
    }
   ],
   "source": [
    "# Потребление памяти до оптимизации\n",
    "memory_before = df.memory_usage(deep=True).sum()\n",
    "print(f\"Потребление памяти до оптимизации: {memory_before / 1024:.2f} KB\")"
   ]
  },
  {
   "cell_type": "code",
   "execution_count": 7,
   "id": "d0002e09",
   "metadata": {},
   "outputs": [
    {
     "name": "stdout",
     "output_type": "stream",
     "text": [
      "\n",
      "Анализ столбцов:\n",
      "\n",
      "--- price ---\n",
      "Текущий тип: int64\n",
      "Уникальных значений: 219\n",
      "Диапазон значений: 1750000 - 13300000\n",
      "Рекомендуемый тип: uint32\n",
      "\n",
      "--- area ---\n",
      "Текущий тип: int64\n",
      "Уникальных значений: 284\n",
      "Диапазон значений: 1650 - 16200\n",
      "Рекомендуемый тип: uint16\n",
      "\n",
      "--- bedrooms ---\n",
      "Текущий тип: int64\n",
      "Уникальных значений: 6\n",
      "Диапазон значений: 1 - 6\n",
      "Рекомендуемый тип: uint8\n",
      "\n",
      "--- bathrooms ---\n",
      "Текущий тип: int64\n",
      "Уникальных значений: 4\n",
      "Диапазон значений: 1 - 4\n",
      "Рекомендуемый тип: uint8\n",
      "\n",
      "--- stories ---\n",
      "Текущий тип: int64\n",
      "Уникальных значений: 4\n",
      "Диапазон значений: 1 - 4\n",
      "Рекомендуемый тип: uint8\n",
      "\n",
      "--- mainroad ---\n",
      "Текущий тип: object\n",
      "Уникальных значений: 2\n",
      "Рекомендуемый тип: category\n",
      "\n",
      "--- guestroom ---\n",
      "Текущий тип: object\n",
      "Уникальных значений: 2\n",
      "Рекомендуемый тип: category\n",
      "\n",
      "--- basement ---\n",
      "Текущий тип: object\n",
      "Уникальных значений: 2\n",
      "Рекомендуемый тип: category\n",
      "\n",
      "--- hotwaterheating ---\n",
      "Текущий тип: object\n",
      "Уникальных значений: 2\n",
      "Рекомендуемый тип: category\n",
      "\n",
      "--- airconditioning ---\n",
      "Текущий тип: object\n",
      "Уникальных значений: 2\n",
      "Рекомендуемый тип: category\n",
      "\n",
      "--- parking ---\n",
      "Текущий тип: int64\n",
      "Уникальных значений: 4\n",
      "Диапазон значений: 0 - 3\n",
      "Рекомендуемый тип: uint8\n",
      "\n",
      "--- prefarea ---\n",
      "Текущий тип: object\n",
      "Уникальных значений: 2\n",
      "Рекомендуемый тип: category\n",
      "\n",
      "--- furnishingstatus ---\n",
      "Текущий тип: object\n",
      "Уникальных значений: 3\n",
      "Рекомендуемый тип: category\n"
     ]
    }
   ],
   "source": [
    "# Анализируем каждый столбец и выбираем оптимальные типы\n",
    "print(\"\\nАнализ столбцов:\")\n",
    "for col in df.columns:\n",
    "    print(f\"\\n--- {col} ---\")\n",
    "    print(f\"Текущий тип: {df[col].dtype}\")\n",
    "    print(f\"Уникальных значений: {df[col].nunique()}\")\n",
    "    \n",
    "    if df[col].dtype == 'object':\n",
    "        # Для категориальных данных\n",
    "        print(\"Рекомендуемый тип: category\")\n",
    "    else:\n",
    "        # Для числовых данных анализируем диапазон значений\n",
    "        min_val = df[col].min()\n",
    "        max_val = df[col].max()\n",
    "        print(f\"Диапазон значений: {min_val} - {max_val}\")\n",
    "        \n",
    "        if min_val >= 0:\n",
    "            if max_val <= 255:\n",
    "                print(\"Рекомендуемый тип: uint8\")\n",
    "            elif max_val <= 65535:\n",
    "                print(\"Рекомендуемый тип: uint16\")\n",
    "            else:\n",
    "                print(\"Рекомендуемый тип: uint32\")\n",
    "        else:\n",
    "            if min_val >= -128 and max_val <= 127:\n",
    "                print(\"Рекомендуемый тип: int8\")\n",
    "            elif min_val >= -32768 and max_val <= 32767:\n",
    "                print(\"Рекомендуемый тип: int16\")\n",
    "            else:\n",
    "                print(\"Рекомендуемый тип: int32\")\n"
   ]
  },
  {
   "cell_type": "code",
   "execution_count": 11,
   "id": "728aefa4",
   "metadata": {},
   "outputs": [
    {
     "name": "stdout",
     "output_type": "stream",
     "text": [
      "\n",
      "Потребление памяти после оптимизации: 9.46 KB\n",
      "Экономия памяти: 212.46 KB (95.7%)\n",
      "\n",
      "Оптимизированные типы данных:\n",
      "price                 uint32\n",
      "area                  uint16\n",
      "bedrooms               uint8\n",
      "bathrooms              uint8\n",
      "stories                uint8\n",
      "mainroad                bool\n",
      "guestroom               bool\n",
      "basement                bool\n",
      "hotwaterheating         bool\n",
      "airconditioning         bool\n",
      "parking                uint8\n",
      "prefarea                bool\n",
      "furnishingstatus    category\n",
      "dtype: object\n"
     ]
    }
   ],
   "source": [
    "# Оптимизируем типы данных\n",
    "df_optimized = df.copy()\n",
    "\n",
    "# Числовые столбцы\n",
    "df_optimized['price'] = df_optimized['price'].astype('uint32')\n",
    "df_optimized['area'] = df_optimized['area'].astype('uint16')\n",
    "df_optimized['bedrooms'] = df_optimized['bedrooms'].astype('uint8')\n",
    "df_optimized['bathrooms'] = df_optimized['bathrooms'].astype('uint8')\n",
    "df_optimized['stories'] = df_optimized['stories'].astype('uint8')\n",
    "df_optimized['parking'] = df_optimized['parking'].astype('uint8')\n",
    "\n",
    "# Категориальные столбцы с бинарными значениями\n",
    "binary_columns = ['mainroad', 'guestroom', 'basement', 'hotwaterheating', 'airconditioning', 'prefarea']\n",
    "for col in binary_columns:\n",
    "    df_optimized[col] = df_optimized[col].map({'yes': True, 'no': False}).astype('bool')\n",
    "\n",
    "# Категориальный столбец с несколькими значениями\n",
    "df_optimized['furnishingstatus'] = df_optimized['furnishingstatus'].astype('category')\n",
    "\n",
    "# Потребление памяти после оптимизации\n",
    "memory_after = df_optimized.memory_usage(deep=True).sum()\n",
    "print(f\"\\nПотребление памяти после оптимизации: {memory_after / 1024:.2f} KB\")\n",
    "print(f\"Экономия памяти: {(memory_before - memory_after) / 1024:.2f} KB ({((memory_before - memory_after) / memory_before * 100):.1f}%)\")\n",
    "\n",
    "# Вывод информации об оптимизированных типах\n",
    "print(\"\\nОптимизированные типы данных:\")\n",
    "print(df_optimized.dtypes)\n"
   ]
  }
 ],
 "metadata": {
  "kernelspec": {
   "display_name": "Python 3",
   "language": "python",
   "name": "python3"
  },
  "language_info": {
   "codemirror_mode": {
    "name": "ipython",
    "version": 3
   },
   "file_extension": ".py",
   "mimetype": "text/x-python",
   "name": "python",
   "nbconvert_exporter": "python",
   "pygments_lexer": "ipython3",
   "version": "3.13.9"
  }
 },
 "nbformat": 4,
 "nbformat_minor": 5
}

