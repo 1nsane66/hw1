{
 "cells": [
  {
   "cell_type": "code",
   "execution_count": 2,
   "id": "ab51f8a4",
   "metadata": {},
   "outputs": [],
   "source": [
    "import pandas as pd\n",
    "import bottleneck as bn\n",
    "\n"
   ]
  },
  {
   "cell_type": "code",
   "execution_count": 4,
   "id": "4ed05149",
   "metadata": {},
   "outputs": [
    {
     "name": "stdout",
     "output_type": "stream",
     "text": [
      "Считывание датасета\n",
      "Размер датасета: (891, 12)\n",
      "Колонки: ['PassengerId', 'Survived', 'Pclass', 'Name', 'Sex', 'Age', 'SibSp', 'Parch', 'Ticket', 'Fare', 'Cabin', 'Embarked']\n",
      "\n"
     ]
    }
   ],
   "source": [
    "# 1. Считывание датасета\n",
    "df = pd.read_csv(\"train.csv\")\n",
    "\n",
    "print(\"Считывание датасета\")\n",
    "print(f\"Размер датасета: {df.shape}\")\n",
    "print(f\"Колонки: {df.columns.tolist()}\")\n",
    "print()"
   ]
  },
  {
   "cell_type": "code",
   "execution_count": 16,
   "id": "8a65b5f5",
   "metadata": {},
   "outputs": [
    {
     "name": "stdout",
     "output_type": "stream",
     "text": [
      "Средний возраст пассажиров и стандартное отклонение с помощью bottleneck\n",
      "\n",
      "Средний возраст пассажиров: 29.70 лет\n",
      "Стандартное отклонение возраста: 14.52 лет\n",
      "Количество пассажиров с указанным возрастом: 714\n",
      "Количество пропусков в возрасте: 177\n",
      "\n"
     ]
    }
   ],
   "source": [
    "# 2. Средний возраст пассажиров и стандартное отклонение с помощью bottleneck\n",
    "print(\"Средний возраст пассажиров и стандартное отклонение с помощью bottleneck\")\n",
    "\n",
    "mean_age = bn.nanmean(df['Age'].values) \n",
    "std_age = bn.nanstd(df['Age'].values)    \n",
    "\n",
    "print()\n",
    "print(f\"Средний возраст пассажиров: {mean_age:.2f} лет\")\n",
    "print(f\"Стандартное отклонение возраста: {std_age:.2f} лет\")\n",
    "print(f\"Количество пассажиров с указанным возрастом: {df['Age'].notna().sum()}\")\n",
    "print(f\"Количество пропусков в возрасте: {df['Age'].isna().sum()}\")\n",
    "print()"
   ]
  },
  {
   "cell_type": "code",
   "execution_count": 15,
   "id": "f117b241",
   "metadata": {},
   "outputs": [
    {
     "name": "stdout",
     "output_type": "stream",
     "text": [
      "Умножение Fare на коэффициенты в зависимости от класса билета\n",
      "\n",
      "Первые 10 записей с новой стоимостью билета:\n",
      "   Pclass     Fare  Fare_new\n",
      "0       3   7.2500   7.97500\n",
      "1       1  71.2833  92.66829\n",
      "2       3   7.9250   8.71750\n",
      "3       1  53.1000  69.03000\n",
      "4       3   8.0500   8.85500\n",
      "5       3   8.4583   9.30413\n",
      "6       1  51.8625  67.42125\n",
      "7       3  21.0750  23.18250\n",
      "8       3  11.1333  12.24663\n",
      "9       2  30.0708  39.09204\n",
      "\n"
     ]
    }
   ],
   "source": [
    "# 3. Умножение Fare на коэффициенты в зависимости от класса билета\n",
    "print(\"Умножение Fare на коэффициенты в зависимости от класса билета\")\n",
    "\n",
    "import numpy as np\n",
    "\n",
    "df['Fare_new'] = np.where(\n",
    "    df['Pclass'].isin([1, 2]),  # Условие для классов 1 и 2\n",
    "    df['Fare'] * 1.3,           # Значение если условие True\n",
    "    df['Fare'] * 1.1            # Значение если условие False (класс 3)\n",
    ")\n",
    "\n",
    "print ()\n",
    "print(\"Первые 10 записей с новой стоимостью билета:\")\n",
    "print(df[['Pclass', 'Fare', 'Fare_new']].head(10))\n",
    "print()"
   ]
  }
 ],
 "metadata": {
  "kernelspec": {
   "display_name": "Python 3",
   "language": "python",
   "name": "python3"
  },
  "language_info": {
   "codemirror_mode": {
    "name": "ipython",
    "version": 3
   },
   "file_extension": ".py",
   "mimetype": "text/x-python",
   "name": "python",
   "nbconvert_exporter": "python",
   "pygments_lexer": "ipython3",
   "version": "3.13.9"
  }
 },
 "nbformat": 4,
 "nbformat_minor": 5
}

