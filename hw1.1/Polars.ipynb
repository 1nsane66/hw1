{
 "cells": [
  {
   "cell_type": "code",
   "execution_count": null,
   "id": "ab51f8a4",
   "metadata": {},
   "outputs": [
    {
     "data": {
      "text/plain": [
       "polars.config.Config"
      ]
     },
     "execution_count": 45,
     "metadata": {},
     "output_type": "execute_result"
    }
   ],
   "source": [
    "import polars as pl\n",
    "pl.Config.set_tbl_rows(50)  # Больше строк в таблице\n",
    "pl.Config.set_tbl_width_chars(150)  # Ширина вывода"
   ]
  },
  {
   "cell_type": "code",
   "execution_count": 46,
   "id": "4ed05149",
   "metadata": {},
   "outputs": [
    {
     "name": "stdout",
     "output_type": "stream",
     "text": [
      "Размер датасета: (891, 12)\n",
      "Колонки: ['PassengerId', 'Survived', 'Pclass', 'Name', 'Sex', 'Age', 'SibSp', 'Parch', 'Ticket', 'Fare', 'Cabin', 'Embarked']\n",
      "\n"
     ]
    }
   ],
   "source": [
    "# Загрузка данных\n",
    "df = pl.read_csv(\"train.csv\")\n",
    "\n",
    "print(f\"Размер датасета: {df.shape}\")\n",
    "print(f\"Колонки: {df.columns}\")\n",
    "print()\n",
    "\n"
   ]
  },
  {
   "cell_type": "code",
   "execution_count": 47,
   "id": "13f47f67",
   "metadata": {},
   "outputs": [
    {
     "name": "stdout",
     "output_type": "stream",
     "text": [
      "Основная информация о датасете\n",
      "Типы данных:\n",
      "{'PassengerId': Int64, 'Survived': Int64, 'Pclass': Int64, 'Name': String, 'Sex': String, 'Age': Float64, 'SibSp': Int64, 'Parch': Int64, 'Ticket': String, 'Fare': Float64, 'Cabin': String, 'Embarked': String}\n",
      "\n",
      "Число пропусков:\n",
      "shape: (1, 12)\n",
      "┌─────────────┬──────────┬────────┬──────┬───┬────────┬──────┬───────┬──────────┐\n",
      "│ PassengerId ┆ Survived ┆ Pclass ┆ Name ┆ … ┆ Ticket ┆ Fare ┆ Cabin ┆ Embarked │\n",
      "│ ---         ┆ ---      ┆ ---    ┆ ---  ┆   ┆ ---    ┆ ---  ┆ ---   ┆ ---      │\n",
      "│ u32         ┆ u32      ┆ u32    ┆ u32  ┆   ┆ u32    ┆ u32  ┆ u32   ┆ u32      │\n",
      "╞═════════════╪══════════╪════════╪══════╪═══╪════════╪══════╪═══════╪══════════╡\n",
      "│ 0           ┆ 0        ┆ 0      ┆ 0    ┆ … ┆ 0      ┆ 0    ┆ 687   ┆ 2        │\n",
      "└─────────────┴──────────┴────────┴──────┴───┴────────┴──────┴───────┴──────────┘\n",
      "\n",
      "Основные статистики (ключевые числовые колонки):\n",
      "shape: (9, 7)\n",
      "┌────────────┬───────────┬───────────┬──────────┬──────────┬──────────┬──────────┐\n",
      "│ statistic  ┆ Age       ┆ Fare      ┆ SibSp    ┆ Parch    ┆ Pclass   ┆ Survived │\n",
      "│ ---        ┆ ---       ┆ ---       ┆ ---      ┆ ---      ┆ ---      ┆ ---      │\n",
      "│ str        ┆ f64       ┆ f64       ┆ f64      ┆ f64      ┆ f64      ┆ f64      │\n",
      "╞════════════╪═══════════╪═══════════╪══════════╪══════════╪══════════╪══════════╡\n",
      "│ count      ┆ 714.0     ┆ 891.0     ┆ 891.0    ┆ 891.0    ┆ 891.0    ┆ 891.0    │\n",
      "│ null_count ┆ 177.0     ┆ 0.0       ┆ 0.0      ┆ 0.0      ┆ 0.0      ┆ 0.0      │\n",
      "│ mean       ┆ 29.699118 ┆ 32.204208 ┆ 0.523008 ┆ 0.381594 ┆ 2.308642 ┆ 0.383838 │\n",
      "│ std        ┆ 14.526497 ┆ 49.693429 ┆ 1.102743 ┆ 0.806057 ┆ 0.836071 ┆ 0.486592 │\n",
      "│ min        ┆ 0.42      ┆ 0.0       ┆ 0.0      ┆ 0.0      ┆ 1.0      ┆ 0.0      │\n",
      "│ 25%        ┆ 20.0      ┆ 7.925     ┆ 0.0      ┆ 0.0      ┆ 2.0      ┆ 0.0      │\n",
      "│ 50%        ┆ 28.0      ┆ 14.4542   ┆ 0.0      ┆ 0.0      ┆ 3.0      ┆ 0.0      │\n",
      "│ 75%        ┆ 38.0      ┆ 31.0      ┆ 1.0      ┆ 0.0      ┆ 3.0      ┆ 1.0      │\n",
      "│ max        ┆ 80.0      ┆ 512.3292  ┆ 8.0      ┆ 6.0      ┆ 3.0      ┆ 1.0      │\n",
      "└────────────┴───────────┴───────────┴──────────┴──────────┴──────────┴──────────┘\n",
      "\n"
     ]
    }
   ],
   "source": [
    "# 2. Основная информация о датасете\n",
    "print(\"Основная информация о датасете\")\n",
    "print(\"Типы данных:\")\n",
    "print(dict(df.schema))\n",
    "print()\n",
    "\n",
    "print(\"Число пропусков:\")\n",
    "null_counts = df.null_count()\n",
    "print(null_counts)\n",
    "print()\n",
    "\n",
    "print(\"Основные статистики (ключевые числовые колонки):\")\n",
    "numeric_stats = df.select([\"Age\", \"Fare\", \"SibSp\", \"Parch\", \"Pclass\", \"Survived\"]).describe()\n",
    "print(numeric_stats)\n",
    "print()\n",
    "\n"
   ]
  },
  {
   "cell_type": "code",
   "execution_count": 50,
   "id": "2d8c5902",
   "metadata": {},
   "outputs": [
    {
     "name": "stdout",
     "output_type": "stream",
     "text": [
      "Количество пассажиров каждого класса\n",
      "shape: (3, 2)\n",
      "┌────────┬───────┐\n",
      "│ Pclass ┆ count │\n",
      "│ ---    ┆ ---   │\n",
      "│ i64    ┆ u32   │\n",
      "╞════════╪═══════╡\n",
      "│ 1      ┆ 216   │\n",
      "│ 2      ┆ 184   │\n",
      "│ 3      ┆ 491   │\n",
      "└────────┴───────┘\n",
      "\n"
     ]
    }
   ],
   "source": [
    "# 3. Количество пассажиров каждого класса\n",
    "print(\"Количество пассажиров каждого класса\")\n",
    "pclass_counts = df.group_by(\"Pclass\").agg(\n",
    "    pl.len().alias(\"count\")\n",
    ").sort(\"Pclass\")\n",
    "print(pclass_counts)\n",
    "print()"
   ]
  },
  {
   "cell_type": "code",
   "execution_count": 49,
   "id": "19ef8500",
   "metadata": {},
   "outputs": [
    {
     "name": "stdout",
     "output_type": "stream",
     "text": [
      "Количество выживших мужчин и женщин\n",
      "shape: (2, 2)\n",
      "┌────────┬────────────────┐\n",
      "│ Sex    ┆ survived_count │\n",
      "│ ---    ┆ ---            │\n",
      "│ str    ┆ u32            │\n",
      "╞════════╪════════════════╡\n",
      "│ male   ┆ 109            │\n",
      "│ female ┆ 233            │\n",
      "└────────┴────────────────┘\n",
      "\n"
     ]
    }
   ],
   "source": [
    "# 4. Количество выживших мужчин и женщин\n",
    "print(\"Количество выживших мужчин и женщин\")\n",
    "survived_by_sex = df.filter(pl.col(\"Survived\") == 1).group_by(\"Sex\").agg(\n",
    "    pl.len().alias(\"survived_count\")\n",
    ")\n",
    "print(survived_by_sex)\n",
    "print()"
   ]
  },
  {
   "cell_type": "code",
   "execution_count": 51,
   "id": "8fa1fbcc",
   "metadata": {},
   "outputs": [
    {
     "name": "stdout",
     "output_type": "stream",
     "text": [
      "Пассажиры старше 44 лет\n",
      "Количество пассажиров старше 44 лет: 115\n",
      "\n",
      "Первые 10 пассажиров старше 44 лет:\n",
      "shape: (10, 6)\n",
      "┌─────────────┬─────────────────────────────────┬──────┬────────┬────────┬──────────┐\n",
      "│ PassengerId ┆ Name                            ┆ Age  ┆ Sex    ┆ Pclass ┆ Survived │\n",
      "│ ---         ┆ ---                             ┆ ---  ┆ ---    ┆ ---    ┆ ---      │\n",
      "│ i64         ┆ str                             ┆ f64  ┆ str    ┆ i64    ┆ i64      │\n",
      "╞═════════════╪═════════════════════════════════╪══════╪════════╪════════╪══════════╡\n",
      "│ 7           ┆ McCarthy, Mr. Timothy J         ┆ 54.0 ┆ male   ┆ 1      ┆ 0        │\n",
      "│ 12          ┆ Bonnell, Miss. Elizabeth        ┆ 58.0 ┆ female ┆ 1      ┆ 1        │\n",
      "│ 16          ┆ Hewlett, Mrs. (Mary D Kingcome… ┆ 55.0 ┆ female ┆ 2      ┆ 1        │\n",
      "│ 34          ┆ Wheadon, Mr. Edward H           ┆ 66.0 ┆ male   ┆ 2      ┆ 0        │\n",
      "│ 53          ┆ Harper, Mrs. Henry Sleeper (My… ┆ 49.0 ┆ female ┆ 1      ┆ 1        │\n",
      "│ 55          ┆ Ostby, Mr. Engelhart Cornelius  ┆ 65.0 ┆ male   ┆ 1      ┆ 0        │\n",
      "│ 63          ┆ Harris, Mr. Henry Birkhardt     ┆ 45.0 ┆ male   ┆ 1      ┆ 0        │\n",
      "│ 93          ┆ Chaffee, Mr. Herbert Fuller     ┆ 46.0 ┆ male   ┆ 1      ┆ 0        │\n",
      "│ 95          ┆ Coxon, Mr. Daniel               ┆ 59.0 ┆ male   ┆ 3      ┆ 0        │\n",
      "│ 97          ┆ Goldschmidt, Mr. George B       ┆ 71.0 ┆ male   ┆ 1      ┆ 0        │\n",
      "└─────────────┴─────────────────────────────────┴──────┴────────┴────────┴──────────┘\n"
     ]
    }
   ],
   "source": [
    "# 5. Пассажиры старше 44 лет\n",
    "print(\"Пассажиры старше 44 лет\")\n",
    "older_passengers = df.filter(pl.col(\"Age\") > 44)\n",
    "print(f\"Количество пассажиров старше 44 лет: {len(older_passengers)}\")\n",
    "print()\n",
    "\n",
    "print(\"Первые 10 пассажиров старше 44 лет:\")\n",
    "print(older_passengers.head(10).select([\"PassengerId\", \"Name\", \"Age\", \"Sex\", \"Pclass\", \"Survived\"]))"
   ]
  }
 ],
 "metadata": {
  "kernelspec": {
   "display_name": "Python 3",
   "language": "python",
   "name": "python3"
  },
  "language_info": {
   "codemirror_mode": {
    "name": "ipython",
    "version": 3
   },
   "file_extension": ".py",
   "mimetype": "text/x-python",
   "name": "python",
   "nbconvert_exporter": "python",
   "pygments_lexer": "ipython3",
   "version": "3.13.9"
  }
 },
 "nbformat": 4,
 "nbformat_minor": 5
}

